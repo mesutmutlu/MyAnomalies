{
 "cells": [
  {
   "cell_type": "code",
   "execution_count": 1,
   "metadata": {
    "collapsed": true
   },
   "outputs": [],
   "source": [
    "import pandas as pd\n",
    "\n",
    "pd_tr_cust = pd.read_csv(r\"C:\\datasets\\kbyoyo\\qnb\\Koc_Yaz_Okulu_Data_Train_Cust.txt\", delimiter=\";\")\n",
    "pd_tr_agent = pd.read_csv(r\"C:\\datasets\\kbyoyo\\qnb\\Koc_Yaz_Okulu_Data_Train_Agent.txt\")\n",
    "pd_tr_target = pd.read_csv(r\"C:\\datasets\\kbyoyo\\qnb\\Koc_Yaz_Okulu_Data_Train_Target.txt\")\n",
    "pd_ts_cust = pd.read_csv(r\"C:\\datasets\\kbyoyo\\qnb\\Koc_Yaz_Okulu_Data_Test_Cust.txt\")\n",
    "pd_ts_agent = pd.read_csv(r\"C:\\datasets\\kbyoyo\\qnb\\Koc_Yaz_Okulu_Data_Test_Agent.txt\")"
   ]
  },
  {
   "cell_type": "code",
   "execution_count": 2,
   "metadata": {},
   "outputs": [
    {
     "name": "stdout",
     "output_type": "stream",
     "text": [
      "                                         ID;CUST_TXT\n0  29408483;X7092177 X5266558 X9093733 X1317264 X...\n1  29164528;X7092177 X5266558 X4663422 X3262622 X...\n2  29475634;X7596215 X6640757 X9841945 X3866779 X...\n3  30133404;X7092177 X5266558 X9587719 X7330829 X...\n4  29333466;X7587620 X1490219 X6766100 X6640757 X...\n"
     ]
    }
   ],
   "source": [
    "print(pd_ts_cust.head())"
   ]
  },
  {
   "cell_type": "code",
   "execution_count": null,
   "metadata": {},
   "outputs": [],
   "source": []
  }
 ],
 "metadata": {
  "kernelspec": {
   "display_name": "Python 2",
   "language": "python",
   "name": "python2"
  },
  "language_info": {
   "codemirror_mode": {
    "name": "ipython",
    "version": 2
   },
   "file_extension": ".py",
   "mimetype": "text/x-python",
   "name": "python",
   "nbconvert_exporter": "python",
   "pygments_lexer": "ipython2",
   "version": "2.7.6"
  }
 },
 "nbformat": 4,
 "nbformat_minor": 0
}
